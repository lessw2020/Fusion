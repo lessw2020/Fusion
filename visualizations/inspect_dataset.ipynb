{
 "cells": [
  {
   "cell_type": "code",
   "execution_count": 1,
   "metadata": {},
   "outputs": [],
   "source": [
    "%matplotlib inline"
   ]
  },
  {
   "cell_type": "code",
   "execution_count": 2,
   "metadata": {},
   "outputs": [],
   "source": [
    "from nlp import load_dataset"
   ]
  },
  {
   "cell_type": "code",
   "execution_count": 12,
   "metadata": {},
   "outputs": [
    {
     "name": "stdout",
     "output_type": "stream",
     "text": [
      "/home/ubuntu/Fusion/visualizations\n"
     ]
    }
   ],
   "source": [
    "from pathlib import Path, PurePath\n",
    "print(Path.cwd())"
   ]
  },
  {
   "cell_type": "code",
   "execution_count": 5,
   "metadata": {},
   "outputs": [],
   "source": [
    "dataset_path = Path.cwd()/'../data/wikihow/'"
   ]
  },
  {
   "cell_type": "code",
   "execution_count": 7,
   "metadata": {},
   "outputs": [
    {
     "data": {
      "text/plain": [
       "PosixPath('/home/ubuntu/Fusion/data/wikihow')"
      ]
     },
     "execution_count": 7,
     "metadata": {},
     "output_type": "execute_result"
    }
   ],
   "source": [
    "dataset_path.resolve()"
   ]
  },
  {
   "cell_type": "code",
   "execution_count": 50,
   "metadata": {},
   "outputs": [],
   "source": [
    "wikihow_all = 'https://public-nlp-datasets.s3.us-west-2.amazonaws.com/wikihowAll.csv'\n",
    "wikihow_sep = 'https://public-nlp-datasets.s3.us-west-2.amazonaws.com/wikihowSep.csv'"
   ]
  },
  {
   "cell_type": "code",
   "execution_count": 16,
   "metadata": {},
   "outputs": [],
   "source": [
    "import requests\n",
    "import shutil\n",
    "from tqdm.auto import tqdm\n",
    "import os\n",
    "\n"
   ]
  },
  {
   "cell_type": "code",
   "execution_count": 67,
   "metadata": {},
   "outputs": [],
   "source": [
    "def preview_file(file_url):\n",
    "    \"\"\" preview a file from a URL - verify access, existence and check size \"\"\"\n",
    "    if isinstance(file_url, PurePath):\n",
    "        file_url = str(file_url)\n",
    "\n",
    "    # connect to URL\n",
    "    with requests.get(file_url, stream=True) as req:\n",
    "        status = req.status_code\n",
    "        print(f\"connection status = {req.status_code}\")\n",
    "\n",
    "        if status==403:\n",
    "            print(f\"Object permissions are blocking from download (Forbidden)\")\n",
    "            return \n",
    "\n",
    "    \n",
    "        # check header to get content length, in bytes\n",
    "        file_length = int(req.headers.get(\"Content-Length\"))\n",
    "        file_name = os.path.basename(req.url)\n",
    "        file_size_in_MB = round(file_length/(1024*1024),4)\n",
    "        \n",
    "\n",
    "        print(f\"File is available, size of {file_name} is {file_size_in_MB} MB \")\n",
    "        return\n",
    "    \n",
    "\n",
    "    \n"
   ]
  },
  {
   "cell_type": "code",
   "execution_count": 69,
   "metadata": {},
   "outputs": [],
   "source": [
    "def get_file(file_url, download=True):\n",
    "    \"\"\" download a file with progress bar\n",
    "\n",
    "    download = False - will check file size and verify access to file\n",
    "    download = True - downloads file with progress bar  \"\"\"\n",
    "\n",
    "    if isinstance(file_url, PurePath):\n",
    "        file_url = str(file_url)\n",
    "        \n",
    "    # http request \n",
    "    with requests.get(file_url, stream=True) as req:\n",
    "        status = req.status_code\n",
    "        print(f\"connection status = {req.status_code}\")\n",
    "\n",
    "        if status==403:\n",
    "            print(f\"Object permissions are blocking from download (Forbidden)\")\n",
    "            return \n",
    "\n",
    "    \n",
    "        # check header to get content length, in bytes\n",
    "        file_length = int(req.headers.get(\"Content-Length\"))\n",
    "        file_name = os.path.basename(req.url)\n",
    "        file_size_in_MB = round(file_length/(1024*1024),4)\n",
    "        if not download:\n",
    "\n",
    "            print(f\"File size of {file_name} is {file_size_in_MB} MB \")\n",
    "            return\n",
    "    \n",
    "    \n",
    "        with tqdm.wrapattr(req.raw, \"read\", total=file_length, desc=f\"Downloading {file_name} \")as raw:\n",
    "        \n",
    "            \n",
    "            with open(f\"{file_name}\", 'wb')as output:\n",
    "                shutil.copyfileobj(raw, output)"
   ]
  },
  {
   "cell_type": "code",
   "execution_count": 70,
   "metadata": {},
   "outputs": [
    {
     "name": "stdout",
     "output_type": "stream",
     "text": [
      "connection status = 200\n",
      "File is available, size of wikihowAll.csv is 590.4891 MB \n"
     ]
    }
   ],
   "source": [
    "preview_file(wikihow_all)"
   ]
  },
  {
   "cell_type": "code",
   "execution_count": 71,
   "metadata": {},
   "outputs": [
    {
     "name": "stdout",
     "output_type": "stream",
     "text": [
      "connection status = 200\n",
      "File size of wikihowAll.csv is 590.4891 MB \n"
     ]
    }
   ],
   "source": [
    "get_file(wikihow_all,download=False )"
   ]
  },
  {
   "cell_type": "code",
   "execution_count": null,
   "metadata": {},
   "outputs": [],
   "source": []
  }
 ],
 "metadata": {
  "interpreter": {
   "hash": "5b2c14c5f2a3b21e6c2412c8196f5145870350e81c0b737cae3e5c60eb1e1eac"
  },
  "kernelspec": {
   "display_name": "Python 3.8.12 ('pytorch_p38')",
   "language": "python",
   "name": "python3"
  },
  "language_info": {
   "codemirror_mode": {
    "name": "ipython",
    "version": 3
   },
   "file_extension": ".py",
   "mimetype": "text/x-python",
   "name": "python",
   "nbconvert_exporter": "python",
   "pygments_lexer": "ipython3",
   "version": "3.8.12"
  },
  "orig_nbformat": 4
 },
 "nbformat": 4,
 "nbformat_minor": 2
}
